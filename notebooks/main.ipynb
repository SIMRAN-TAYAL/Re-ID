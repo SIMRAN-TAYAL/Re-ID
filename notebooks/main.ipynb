{
 "cells": [
  {
   "cell_type": "code",
   "execution_count": 1,
   "id": "33cd048e",
   "metadata": {},
   "outputs": [
    {
     "name": "stdout",
     "output_type": "stream",
     "text": [
      "d:\\envs\\Vehicle_RE_ID\n"
     ]
    }
   ],
   "source": [
    "import sys, os\n",
    "\n",
    "# Add the project root directory to sys.path\n",
    "project_root = os.path.abspath(os.path.join(os.getcwd(), \"..\"))\n",
    "if project_root not in sys.path:\n",
    "    sys.path.append(project_root)\n",
    "\n",
    "print(project_root)  # Just to verify path added\n"
   ]
  },
  {
   "cell_type": "code",
   "execution_count": 45,
   "id": "a2e1f07b",
   "metadata": {},
   "outputs": [
    {
     "name": "stderr",
     "output_type": "stream",
     "text": [
      "Exception ignored in: <function _MultiProcessingDataLoaderIter.__del__ at 0x0000029A35130220>\n",
      "Traceback (most recent call last):\n",
      "  File \"d:\\envs\\Vehicle_RE_ID\\Re_ID\\Lib\\site-packages\\torch\\utils\\data\\dataloader.py\", line 1604, in __del__\n",
      "    self._shutdown_workers()\n",
      "  File \"d:\\envs\\Vehicle_RE_ID\\Re_ID\\Lib\\site-packages\\torch\\utils\\data\\dataloader.py\", line 1562, in _shutdown_workers\n",
      "    if self._persistent_workers or self._workers_status[worker_id]:\n",
      "                                   ^^^^^^^^^^^^^^^^^^^^\n",
      "AttributeError: '_MultiProcessingDataLoaderIter' object has no attribute '_workers_status'\n"
     ]
    }
   ],
   "source": [
    "from src.dataset import VeRiDataset\n",
    "from src.sampler import RandomIdentitySampler\n",
    "from src.model import ReIDModel\n",
    "from src.losses import TripletLoss\n",
    "import os\n",
    "import random\n",
    "import xml.etree.ElementTree as ET\n",
    "from PIL import Image\n",
    "import torch\n",
    "from torch.utils.data import Dataset, DataLoader, Sampler\n",
    "from torchvision import transforms, models\n",
    "import torch.nn as nn\n",
    "import torch.nn.functional as F\n",
    "from torch.optim import Adam\n",
    "from tqdm import tqdm\n",
    "import torch.optim as optim\n",
    "from sklearn.metrics.pairwise import cosine_similarity\n",
    "import numpy as np"
   ]
  },
  {
   "cell_type": "code",
   "execution_count": 3,
   "id": "476e375a",
   "metadata": {},
   "outputs": [
    {
     "name": "stdout",
     "output_type": "stream",
     "text": [
      "d:\\envs\\Vehicle_RE_ID\\notebooks\n"
     ]
    }
   ],
   "source": [
    "print(os.getcwd())"
   ]
  },
  {
   "cell_type": "code",
   "execution_count": 4,
   "id": "5059d339",
   "metadata": {},
   "outputs": [
    {
     "name": "stdout",
     "output_type": "stream",
     "text": [
      "TrainingImages\n",
      "37746\n",
      "TestingImages\n",
      "11579\n"
     ]
    }
   ],
   "source": [
    "from lxml import etree\n",
    "\n",
    "with open(\"D:/envs/Vehicle_RE_ID/data/VeRi/train_label.xml\", \"rb\") as f:\n",
    "    xml_bytes = f.read()\n",
    "\n",
    "with open(\"D:/envs/Vehicle_RE_ID/data/VeRi/test_label.xml\", \"rb\") as g:\n",
    "    xml_bytes_ = g.read()\n",
    "\n",
    "xml_text = xml_bytes.decode(\"gb2312\", errors=\"ignore\")\n",
    "root = etree.fromstring(xml_text.encode(\"utf-8\"))\n",
    "\n",
    "xml_text_ = xml_bytes_.decode(\"gb2312\", errors=\"ignore\")\n",
    "root_ = etree.fromstring(xml_text_.encode(\"utf-8\"))\n",
    "\n",
    "print(root.tag)\n",
    "print(len(root.findall(\".//Item\")))\n",
    "\n",
    "print(\"TestingImages\")\n",
    "print(len(root_.findall(\".//Item\")))\n"
   ]
  },
  {
   "cell_type": "code",
   "execution_count": 5,
   "id": "9b74c5f0",
   "metadata": {},
   "outputs": [],
   "source": [
    "transform_train = transforms.Compose([\n",
    "    transforms.Resize((256, 256)),\n",
    "    transforms.RandomHorizontalFlip(p=0.5),\n",
    "    transforms.Pad(10),\n",
    "    transforms.RandomCrop((256, 256)),\n",
    "    transforms.ToTensor(),\n",
    "    transforms.Normalize(mean=[0.485, 0.456, 0.406],\n",
    "                         std=[0.229, 0.224, 0.225]),\n",
    "])\n",
    "\n",
    "test_transforms = transforms.Compose([\n",
    "    transforms.Resize((256, 256)),      # resize to same as training\n",
    "    transforms.ToTensor(),\n",
    "    transforms.Normalize(mean=[0.485, 0.456, 0.406],\n",
    "                         std=[0.229, 0.224, 0.225])\n",
    "])"
   ]
  },
  {
   "cell_type": "code",
   "execution_count": 6,
   "id": "e2992ca0",
   "metadata": {},
   "outputs": [
    {
     "name": "stdout",
     "output_type": "stream",
     "text": [
      "\n",
      "Loaded VeRi split: train\n",
      "  Total images: 37746\n",
      "  Unique vehicle IDs: 575\n",
      "  Cameras: 20\n",
      "  Vehicle ID range (remapped): 0 → 574\n",
      "\n",
      "37746\n",
      "\n",
      "Loaded VeRi split: test\n",
      "  Total images: 11579\n",
      "  Unique vehicle IDs: 200\n",
      "  Cameras: 19\n",
      "  Vehicle ID range (remapped): 0 → 199\n",
      "\n",
      "11579\n"
     ]
    }
   ],
   "source": [
    "dataset_root = 'D:/envs/Vehicle_RE_ID/data/VeRi/'\n",
    "\n",
    "train_dataset = VeRiDataset(dataset_root, split=\"train\", transform=transform_train)\n",
    "print(len(train_dataset))\n",
    "\n",
    "test_dataset = VeRiDataset(dataset_root, split=\"test\", transform=transform_train)\n",
    "print(len(test_dataset))"
   ]
  },
  {
   "cell_type": "code",
   "execution_count": 7,
   "id": "86d23ec5",
   "metadata": {},
   "outputs": [
    {
     "data": {
      "text/plain": [
       "(tensor([[[ 0.6906,  0.6906,  0.6734,  ..., -2.1179, -2.1179, -2.1179],\n",
       "          [ 0.6906,  0.6906,  0.6734,  ..., -2.1179, -2.1179, -2.1179],\n",
       "          [ 0.6906,  0.6906,  0.6734,  ..., -2.1179, -2.1179, -2.1179],\n",
       "          ...,\n",
       "          [-2.1179, -2.1179, -2.1179,  ..., -2.1179, -2.1179, -2.1179],\n",
       "          [-2.1179, -2.1179, -2.1179,  ..., -2.1179, -2.1179, -2.1179],\n",
       "          [-2.1179, -2.1179, -2.1179,  ..., -2.1179, -2.1179, -2.1179]],\n",
       " \n",
       "         [[ 0.8529,  0.8529,  0.8354,  ..., -2.0357, -2.0357, -2.0357],\n",
       "          [ 0.8529,  0.8529,  0.8354,  ..., -2.0357, -2.0357, -2.0357],\n",
       "          [ 0.8529,  0.8529,  0.8179,  ..., -2.0357, -2.0357, -2.0357],\n",
       "          ...,\n",
       "          [-2.0357, -2.0357, -2.0357,  ..., -2.0357, -2.0357, -2.0357],\n",
       "          [-2.0357, -2.0357, -2.0357,  ..., -2.0357, -2.0357, -2.0357],\n",
       "          [-2.0357, -2.0357, -2.0357,  ..., -2.0357, -2.0357, -2.0357]],\n",
       " \n",
       "         [[ 0.9668,  0.9668,  0.9668,  ..., -1.8044, -1.8044, -1.8044],\n",
       "          [ 0.9842,  0.9842,  0.9668,  ..., -1.8044, -1.8044, -1.8044],\n",
       "          [ 0.9842,  0.9842,  1.0017,  ..., -1.8044, -1.8044, -1.8044],\n",
       "          ...,\n",
       "          [-1.8044, -1.8044, -1.8044,  ..., -1.8044, -1.8044, -1.8044],\n",
       "          [-1.8044, -1.8044, -1.8044,  ..., -1.8044, -1.8044, -1.8044],\n",
       "          [-1.8044, -1.8044, -1.8044,  ..., -1.8044, -1.8044, -1.8044]]]),\n",
       " 14,\n",
       " 15)"
      ]
     },
     "execution_count": 7,
     "metadata": {},
     "output_type": "execute_result"
    }
   ],
   "source": [
    "train_dataset[1000]"
   ]
  },
  {
   "cell_type": "code",
   "execution_count": 8,
   "id": "4f9a1f82",
   "metadata": {},
   "outputs": [
    {
     "data": {
      "text/plain": [
       "(tensor([[[-2.1179, -2.1179, -1.3473,  ...,  0.2453,  0.2282,  0.2282],\n",
       "          [-2.1179, -2.1179, -1.3302,  ...,  0.2453,  0.2282,  0.2282],\n",
       "          [-2.1179, -2.1179, -1.3130,  ...,  0.2453,  0.2282,  0.2282],\n",
       "          ...,\n",
       "          [-2.1179, -2.1179, -2.1179,  ..., -2.1179, -2.1179, -2.1179],\n",
       "          [-2.1179, -2.1179, -2.1179,  ..., -2.1179, -2.1179, -2.1179],\n",
       "          [-2.1179, -2.1179, -2.1179,  ..., -2.1179, -2.1179, -2.1179]],\n",
       " \n",
       "         [[-2.0357, -2.0357, -1.2304,  ...,  0.3452,  0.3452,  0.3452],\n",
       "          [-2.0357, -2.0357, -1.2129,  ...,  0.3452,  0.3452,  0.3452],\n",
       "          [-2.0357, -2.0357, -1.1954,  ...,  0.3452,  0.3452,  0.3452],\n",
       "          ...,\n",
       "          [-2.0357, -2.0357, -2.0357,  ..., -2.0357, -2.0357, -2.0357],\n",
       "          [-2.0357, -2.0357, -2.0357,  ..., -2.0357, -2.0357, -2.0357],\n",
       "          [-2.0357, -2.0357, -2.0357,  ..., -2.0357, -2.0357, -2.0357]],\n",
       " \n",
       "         [[-1.8044, -1.8044, -0.9330,  ...,  0.7576,  0.7228,  0.7054],\n",
       "          [-1.8044, -1.8044, -0.9156,  ...,  0.7576,  0.7228,  0.7054],\n",
       "          [-1.8044, -1.8044, -0.8981,  ...,  0.7576,  0.7228,  0.7054],\n",
       "          ...,\n",
       "          [-1.8044, -1.8044, -1.8044,  ..., -1.8044, -1.8044, -1.8044],\n",
       "          [-1.8044, -1.8044, -1.8044,  ..., -1.8044, -1.8044, -1.8044],\n",
       "          [-1.8044, -1.8044, -1.8044,  ..., -1.8044, -1.8044, -1.8044]]]),\n",
       " 1,\n",
       " 9)"
      ]
     },
     "execution_count": 8,
     "metadata": {},
     "output_type": "execute_result"
    }
   ],
   "source": [
    "test_dataset[100]"
   ]
  },
  {
   "cell_type": "code",
   "execution_count": 9,
   "id": "0fb925f6",
   "metadata": {},
   "outputs": [],
   "source": [
    "# ✅ For query set — filter from test samples\n",
    "query_list_path = os.path.join(dataset_root, \"name_query.txt\")\n",
    "with open(query_list_path, \"r\") as f:\n",
    "    query_names = [line.strip() for line in f.readlines()]\n",
    "\n",
    "query_samples = [s for s in test_dataset.samples if os.path.basename(s[0]) in query_names]\n",
    "gallery_samples = [s for s in test_dataset.samples if os.path.basename(s[0]) not in query_names]"
   ]
  },
  {
   "cell_type": "code",
   "execution_count": 10,
   "id": "75c32234",
   "metadata": {},
   "outputs": [],
   "source": [
    "# Create dataset instances manually using the same transform\n",
    "query_dataset = torch.utils.data.Subset(test_dataset, range(len(query_samples)))\n",
    "query_dataset.samples = query_samples\n",
    "\n",
    "gallery_dataset = torch.utils.data.Subset(test_dataset, range(len(gallery_samples)))\n",
    "gallery_dataset.samples = gallery_samples"
   ]
  },
  {
   "cell_type": "code",
   "execution_count": 11,
   "id": "69053adc",
   "metadata": {},
   "outputs": [
    {
     "name": "stdout",
     "output_type": "stream",
     "text": [
      "Total Training samples: 37746\n",
      "Unique vehicle IDs: 575\n",
      "num_pids_per_batch = 8\n",
      "\n",
      "Test samples: 11579\n",
      "\n",
      "Query samples: 1678\n",
      "\n",
      "Gallery samples: 9901\n"
     ]
    }
   ],
   "source": [
    "print(\"Total Training samples:\", len(train_dataset))\n",
    "unique_vids = len(set([vid for _, vid, _ in train_dataset.samples]))\n",
    "print(\"Unique vehicle IDs:\", unique_vids)\n",
    "\n",
    "batch_size = 32\n",
    "num_instances = 4\n",
    "P = batch_size // num_instances\n",
    "print(f\"num_pids_per_batch = {P}\")\n",
    "\n",
    "#---------------------------------------------------------------------------------\n",
    "\n",
    "print(\"\\nTest samples:\", len(test_dataset))\n",
    "\n",
    "#---------------------------------------------------------------------------------\n",
    "\n",
    "print(\"\\nQuery samples:\", len(query_dataset))\n",
    "\n",
    "#---------------------------------------------------------------------------------\n",
    "\n",
    "print(\"\\nGallery samples:\", len(gallery_dataset))\n"
   ]
  },
  {
   "cell_type": "code",
   "execution_count": 12,
   "id": "f8007f11",
   "metadata": {},
   "outputs": [],
   "source": [
    "batch_size = 32\n",
    "num_instances = 4  # K\n",
    "sampler = RandomIdentitySampler(train_dataset, batch_size, num_instances)\n",
    "train_loader = DataLoader(train_dataset, batch_size=batch_size, sampler=sampler, num_workers=4, drop_last=True)\n",
    "\n",
    "query_loader = DataLoader(query_dataset, batch_size=32, shuffle=False, num_workers=4)\n",
    "\n",
    "gallery_loader = DataLoader(gallery_dataset, batch_size=32, shuffle=False, num_workers=4)\n"
   ]
  },
  {
   "cell_type": "code",
   "execution_count": 13,
   "id": "fa0caceb",
   "metadata": {},
   "outputs": [
    {
     "name": "stdout",
     "output_type": "stream",
     "text": [
      "Train samples: 37746\n",
      "Query samples: 1678\n",
      "Gallery samples: 9901\n"
     ]
    }
   ],
   "source": [
    "print(f\"Train samples: {len(train_dataset)}\")\n",
    "print(f\"Query samples: {len(query_dataset)}\")\n",
    "print(f\"Gallery samples: {len(gallery_dataset)}\")"
   ]
  },
  {
   "cell_type": "code",
   "execution_count": 14,
   "id": "6ca4eedd",
   "metadata": {},
   "outputs": [
    {
     "name": "stdout",
     "output_type": "stream",
     "text": [
      "Batch PIDs: tensor([103, 103, 103, 103,  58,  58,  58,  58, 378, 378, 378, 378, 375, 375,\n",
      "        375, 375, 354, 354, 354, 354, 319, 319, 319, 319, 245, 245, 245, 245,\n",
      "        535, 535, 535, 535])\n"
     ]
    }
   ],
   "source": [
    "for imgs, pids, camids in train_loader:\n",
    "    print(\"Batch PIDs:\", pids)\n",
    "    break"
   ]
  },
  {
   "cell_type": "code",
   "execution_count": 15,
   "id": "8c6756e5",
   "metadata": {},
   "outputs": [
    {
     "name": "stdout",
     "output_type": "stream",
     "text": [
      "Batch PIDs: tensor([569, 569, 569, 569, 280, 280, 280, 280, 410, 410, 410, 410, 563, 563,\n",
      "        563, 563, 419, 419, 419, 419,   7,   7,   7,   7, 337, 337, 337, 337,\n",
      "        530, 530, 530, 530])\n"
     ]
    }
   ],
   "source": [
    "batch = next(iter(train_loader))\n",
    "print(\"Batch PIDs:\", batch[1])"
   ]
  },
  {
   "cell_type": "code",
   "execution_count": 16,
   "id": "a342f084",
   "metadata": {},
   "outputs": [
    {
     "name": "stdout",
     "output_type": "stream",
     "text": [
      "2.5.1+cu121\n",
      "CUDA available: True\n"
     ]
    }
   ],
   "source": [
    "import torch\n",
    "print(torch.__version__)\n",
    "print(\"CUDA available:\", torch.cuda.is_available())\n"
   ]
  },
  {
   "cell_type": "code",
   "execution_count": 17,
   "id": "5e1979a4",
   "metadata": {},
   "outputs": [
    {
     "name": "stdout",
     "output_type": "stream",
     "text": [
      "575\n"
     ]
    }
   ],
   "source": [
    "num_classes=len(set([v for _, v, _ in train_dataset.samples]))\n",
    "print(num_classes)"
   ]
  },
  {
   "cell_type": "code",
   "execution_count": 18,
   "id": "aa721082",
   "metadata": {},
   "outputs": [
    {
     "name": "stderr",
     "output_type": "stream",
     "text": [
      "Downloading: \"https://download.pytorch.org/models/resnet50-11ad3fa6.pth\" to C:\\Users\\dasar/.cache\\torch\\hub\\checkpoints\\resnet50-11ad3fa6.pth\n",
      "100%|██████████| 97.8M/97.8M [00:11<00:00, 8.99MB/s]\n"
     ]
    }
   ],
   "source": [
    "#Create Optimizer and Scheduler\n",
    "\n",
    "model = ReIDModel(num_classes=len(set([v for _, v, _ in train_dataset.samples]))).cuda()\n",
    "\n",
    "criterion_ce = nn.CrossEntropyLoss()\n",
    "criterion_tri = TripletLoss(margin=0.3)\n",
    "\n",
    "optimizer = optim.Adam(model.parameters(), lr=3e-4, weight_decay=5e-4)\n",
    "scheduler = optim.lr_scheduler.StepLR(optimizer, step_size=20, gamma=0.1)"
   ]
  },
  {
   "cell_type": "code",
   "execution_count": 19,
   "id": "b7eec578",
   "metadata": {},
   "outputs": [
    {
     "name": "stdout",
     "output_type": "stream",
     "text": [
      "ReIDModel(\n",
      "  (base): Sequential(\n",
      "    (0): Conv2d(3, 64, kernel_size=(7, 7), stride=(2, 2), padding=(3, 3), bias=False)\n",
      "    (1): BatchNorm2d(64, eps=1e-05, momentum=0.1, affine=True, track_running_stats=True)\n",
      "    (2): ReLU(inplace=True)\n",
      "    (3): MaxPool2d(kernel_size=3, stride=2, padding=1, dilation=1, ceil_mode=False)\n",
      "    (4): Sequential(\n",
      "      (0): Bottleneck(\n",
      "        (conv1): Conv2d(64, 64, kernel_size=(1, 1), stride=(1, 1), bias=False)\n",
      "        (bn1): BatchNorm2d(64, eps=1e-05, momentum=0.1, affine=True, track_running_stats=True)\n",
      "        (conv2): Conv2d(64, 64, kernel_size=(3, 3), stride=(1, 1), padding=(1, 1), bias=False)\n",
      "        (bn2): BatchNorm2d(64, eps=1e-05, momentum=0.1, affine=True, track_running_stats=True)\n",
      "        (conv3): Conv2d(64, 256, kernel_size=(1, 1), stride=(1, 1), bias=False)\n",
      "        (bn3): BatchNorm2d(256, eps=1e-05, momentum=0.1, affine=True, track_running_stats=True)\n",
      "        (relu): ReLU(inplace=True)\n",
      "        (downsample): Sequential(\n",
      "          (0): Conv2d(64, 256, kernel_size=(1, 1), stride=(1, 1), bias=False)\n",
      "          (1): BatchNorm2d(256, eps=1e-05, momentum=0.1, affine=True, track_running_stats=True)\n",
      "        )\n",
      "      )\n",
      "      (1): Bottleneck(\n",
      "        (conv1): Conv2d(256, 64, kernel_size=(1, 1), stride=(1, 1), bias=False)\n",
      "        (bn1): BatchNorm2d(64, eps=1e-05, momentum=0.1, affine=True, track_running_stats=True)\n",
      "        (conv2): Conv2d(64, 64, kernel_size=(3, 3), stride=(1, 1), padding=(1, 1), bias=False)\n",
      "        (bn2): BatchNorm2d(64, eps=1e-05, momentum=0.1, affine=True, track_running_stats=True)\n",
      "        (conv3): Conv2d(64, 256, kernel_size=(1, 1), stride=(1, 1), bias=False)\n",
      "        (bn3): BatchNorm2d(256, eps=1e-05, momentum=0.1, affine=True, track_running_stats=True)\n",
      "        (relu): ReLU(inplace=True)\n",
      "      )\n",
      "      (2): Bottleneck(\n",
      "        (conv1): Conv2d(256, 64, kernel_size=(1, 1), stride=(1, 1), bias=False)\n",
      "        (bn1): BatchNorm2d(64, eps=1e-05, momentum=0.1, affine=True, track_running_stats=True)\n",
      "        (conv2): Conv2d(64, 64, kernel_size=(3, 3), stride=(1, 1), padding=(1, 1), bias=False)\n",
      "        (bn2): BatchNorm2d(64, eps=1e-05, momentum=0.1, affine=True, track_running_stats=True)\n",
      "        (conv3): Conv2d(64, 256, kernel_size=(1, 1), stride=(1, 1), bias=False)\n",
      "        (bn3): BatchNorm2d(256, eps=1e-05, momentum=0.1, affine=True, track_running_stats=True)\n",
      "        (relu): ReLU(inplace=True)\n",
      "      )\n",
      "    )\n",
      "    (5): Sequential(\n",
      "      (0): Bottleneck(\n",
      "        (conv1): Conv2d(256, 128, kernel_size=(1, 1), stride=(1, 1), bias=False)\n",
      "        (bn1): BatchNorm2d(128, eps=1e-05, momentum=0.1, affine=True, track_running_stats=True)\n",
      "        (conv2): Conv2d(128, 128, kernel_size=(3, 3), stride=(2, 2), padding=(1, 1), bias=False)\n",
      "        (bn2): BatchNorm2d(128, eps=1e-05, momentum=0.1, affine=True, track_running_stats=True)\n",
      "        (conv3): Conv2d(128, 512, kernel_size=(1, 1), stride=(1, 1), bias=False)\n",
      "        (bn3): BatchNorm2d(512, eps=1e-05, momentum=0.1, affine=True, track_running_stats=True)\n",
      "        (relu): ReLU(inplace=True)\n",
      "        (downsample): Sequential(\n",
      "          (0): Conv2d(256, 512, kernel_size=(1, 1), stride=(2, 2), bias=False)\n",
      "          (1): BatchNorm2d(512, eps=1e-05, momentum=0.1, affine=True, track_running_stats=True)\n",
      "        )\n",
      "      )\n",
      "      (1): Bottleneck(\n",
      "        (conv1): Conv2d(512, 128, kernel_size=(1, 1), stride=(1, 1), bias=False)\n",
      "        (bn1): BatchNorm2d(128, eps=1e-05, momentum=0.1, affine=True, track_running_stats=True)\n",
      "        (conv2): Conv2d(128, 128, kernel_size=(3, 3), stride=(1, 1), padding=(1, 1), bias=False)\n",
      "        (bn2): BatchNorm2d(128, eps=1e-05, momentum=0.1, affine=True, track_running_stats=True)\n",
      "        (conv3): Conv2d(128, 512, kernel_size=(1, 1), stride=(1, 1), bias=False)\n",
      "        (bn3): BatchNorm2d(512, eps=1e-05, momentum=0.1, affine=True, track_running_stats=True)\n",
      "        (relu): ReLU(inplace=True)\n",
      "      )\n",
      "      (2): Bottleneck(\n",
      "        (conv1): Conv2d(512, 128, kernel_size=(1, 1), stride=(1, 1), bias=False)\n",
      "        (bn1): BatchNorm2d(128, eps=1e-05, momentum=0.1, affine=True, track_running_stats=True)\n",
      "        (conv2): Conv2d(128, 128, kernel_size=(3, 3), stride=(1, 1), padding=(1, 1), bias=False)\n",
      "        (bn2): BatchNorm2d(128, eps=1e-05, momentum=0.1, affine=True, track_running_stats=True)\n",
      "        (conv3): Conv2d(128, 512, kernel_size=(1, 1), stride=(1, 1), bias=False)\n",
      "        (bn3): BatchNorm2d(512, eps=1e-05, momentum=0.1, affine=True, track_running_stats=True)\n",
      "        (relu): ReLU(inplace=True)\n",
      "      )\n",
      "      (3): Bottleneck(\n",
      "        (conv1): Conv2d(512, 128, kernel_size=(1, 1), stride=(1, 1), bias=False)\n",
      "        (bn1): BatchNorm2d(128, eps=1e-05, momentum=0.1, affine=True, track_running_stats=True)\n",
      "        (conv2): Conv2d(128, 128, kernel_size=(3, 3), stride=(1, 1), padding=(1, 1), bias=False)\n",
      "        (bn2): BatchNorm2d(128, eps=1e-05, momentum=0.1, affine=True, track_running_stats=True)\n",
      "        (conv3): Conv2d(128, 512, kernel_size=(1, 1), stride=(1, 1), bias=False)\n",
      "        (bn3): BatchNorm2d(512, eps=1e-05, momentum=0.1, affine=True, track_running_stats=True)\n",
      "        (relu): ReLU(inplace=True)\n",
      "      )\n",
      "    )\n",
      "    (6): Sequential(\n",
      "      (0): Bottleneck(\n",
      "        (conv1): Conv2d(512, 256, kernel_size=(1, 1), stride=(1, 1), bias=False)\n",
      "        (bn1): BatchNorm2d(256, eps=1e-05, momentum=0.1, affine=True, track_running_stats=True)\n",
      "        (conv2): Conv2d(256, 256, kernel_size=(3, 3), stride=(2, 2), padding=(1, 1), bias=False)\n",
      "        (bn2): BatchNorm2d(256, eps=1e-05, momentum=0.1, affine=True, track_running_stats=True)\n",
      "        (conv3): Conv2d(256, 1024, kernel_size=(1, 1), stride=(1, 1), bias=False)\n",
      "        (bn3): BatchNorm2d(1024, eps=1e-05, momentum=0.1, affine=True, track_running_stats=True)\n",
      "        (relu): ReLU(inplace=True)\n",
      "        (downsample): Sequential(\n",
      "          (0): Conv2d(512, 1024, kernel_size=(1, 1), stride=(2, 2), bias=False)\n",
      "          (1): BatchNorm2d(1024, eps=1e-05, momentum=0.1, affine=True, track_running_stats=True)\n",
      "        )\n",
      "      )\n",
      "      (1): Bottleneck(\n",
      "        (conv1): Conv2d(1024, 256, kernel_size=(1, 1), stride=(1, 1), bias=False)\n",
      "        (bn1): BatchNorm2d(256, eps=1e-05, momentum=0.1, affine=True, track_running_stats=True)\n",
      "        (conv2): Conv2d(256, 256, kernel_size=(3, 3), stride=(1, 1), padding=(1, 1), bias=False)\n",
      "        (bn2): BatchNorm2d(256, eps=1e-05, momentum=0.1, affine=True, track_running_stats=True)\n",
      "        (conv3): Conv2d(256, 1024, kernel_size=(1, 1), stride=(1, 1), bias=False)\n",
      "        (bn3): BatchNorm2d(1024, eps=1e-05, momentum=0.1, affine=True, track_running_stats=True)\n",
      "        (relu): ReLU(inplace=True)\n",
      "      )\n",
      "      (2): Bottleneck(\n",
      "        (conv1): Conv2d(1024, 256, kernel_size=(1, 1), stride=(1, 1), bias=False)\n",
      "        (bn1): BatchNorm2d(256, eps=1e-05, momentum=0.1, affine=True, track_running_stats=True)\n",
      "        (conv2): Conv2d(256, 256, kernel_size=(3, 3), stride=(1, 1), padding=(1, 1), bias=False)\n",
      "        (bn2): BatchNorm2d(256, eps=1e-05, momentum=0.1, affine=True, track_running_stats=True)\n",
      "        (conv3): Conv2d(256, 1024, kernel_size=(1, 1), stride=(1, 1), bias=False)\n",
      "        (bn3): BatchNorm2d(1024, eps=1e-05, momentum=0.1, affine=True, track_running_stats=True)\n",
      "        (relu): ReLU(inplace=True)\n",
      "      )\n",
      "      (3): Bottleneck(\n",
      "        (conv1): Conv2d(1024, 256, kernel_size=(1, 1), stride=(1, 1), bias=False)\n",
      "        (bn1): BatchNorm2d(256, eps=1e-05, momentum=0.1, affine=True, track_running_stats=True)\n",
      "        (conv2): Conv2d(256, 256, kernel_size=(3, 3), stride=(1, 1), padding=(1, 1), bias=False)\n",
      "        (bn2): BatchNorm2d(256, eps=1e-05, momentum=0.1, affine=True, track_running_stats=True)\n",
      "        (conv3): Conv2d(256, 1024, kernel_size=(1, 1), stride=(1, 1), bias=False)\n",
      "        (bn3): BatchNorm2d(1024, eps=1e-05, momentum=0.1, affine=True, track_running_stats=True)\n",
      "        (relu): ReLU(inplace=True)\n",
      "      )\n",
      "      (4): Bottleneck(\n",
      "        (conv1): Conv2d(1024, 256, kernel_size=(1, 1), stride=(1, 1), bias=False)\n",
      "        (bn1): BatchNorm2d(256, eps=1e-05, momentum=0.1, affine=True, track_running_stats=True)\n",
      "        (conv2): Conv2d(256, 256, kernel_size=(3, 3), stride=(1, 1), padding=(1, 1), bias=False)\n",
      "        (bn2): BatchNorm2d(256, eps=1e-05, momentum=0.1, affine=True, track_running_stats=True)\n",
      "        (conv3): Conv2d(256, 1024, kernel_size=(1, 1), stride=(1, 1), bias=False)\n",
      "        (bn3): BatchNorm2d(1024, eps=1e-05, momentum=0.1, affine=True, track_running_stats=True)\n",
      "        (relu): ReLU(inplace=True)\n",
      "      )\n",
      "      (5): Bottleneck(\n",
      "        (conv1): Conv2d(1024, 256, kernel_size=(1, 1), stride=(1, 1), bias=False)\n",
      "        (bn1): BatchNorm2d(256, eps=1e-05, momentum=0.1, affine=True, track_running_stats=True)\n",
      "        (conv2): Conv2d(256, 256, kernel_size=(3, 3), stride=(1, 1), padding=(1, 1), bias=False)\n",
      "        (bn2): BatchNorm2d(256, eps=1e-05, momentum=0.1, affine=True, track_running_stats=True)\n",
      "        (conv3): Conv2d(256, 1024, kernel_size=(1, 1), stride=(1, 1), bias=False)\n",
      "        (bn3): BatchNorm2d(1024, eps=1e-05, momentum=0.1, affine=True, track_running_stats=True)\n",
      "        (relu): ReLU(inplace=True)\n",
      "      )\n",
      "    )\n",
      "    (7): Sequential(\n",
      "      (0): Bottleneck(\n",
      "        (conv1): Conv2d(1024, 512, kernel_size=(1, 1), stride=(1, 1), bias=False)\n",
      "        (bn1): BatchNorm2d(512, eps=1e-05, momentum=0.1, affine=True, track_running_stats=True)\n",
      "        (conv2): Conv2d(512, 512, kernel_size=(3, 3), stride=(2, 2), padding=(1, 1), bias=False)\n",
      "        (bn2): BatchNorm2d(512, eps=1e-05, momentum=0.1, affine=True, track_running_stats=True)\n",
      "        (conv3): Conv2d(512, 2048, kernel_size=(1, 1), stride=(1, 1), bias=False)\n",
      "        (bn3): BatchNorm2d(2048, eps=1e-05, momentum=0.1, affine=True, track_running_stats=True)\n",
      "        (relu): ReLU(inplace=True)\n",
      "        (downsample): Sequential(\n",
      "          (0): Conv2d(1024, 2048, kernel_size=(1, 1), stride=(2, 2), bias=False)\n",
      "          (1): BatchNorm2d(2048, eps=1e-05, momentum=0.1, affine=True, track_running_stats=True)\n",
      "        )\n",
      "      )\n",
      "      (1): Bottleneck(\n",
      "        (conv1): Conv2d(2048, 512, kernel_size=(1, 1), stride=(1, 1), bias=False)\n",
      "        (bn1): BatchNorm2d(512, eps=1e-05, momentum=0.1, affine=True, track_running_stats=True)\n",
      "        (conv2): Conv2d(512, 512, kernel_size=(3, 3), stride=(1, 1), padding=(1, 1), bias=False)\n",
      "        (bn2): BatchNorm2d(512, eps=1e-05, momentum=0.1, affine=True, track_running_stats=True)\n",
      "        (conv3): Conv2d(512, 2048, kernel_size=(1, 1), stride=(1, 1), bias=False)\n",
      "        (bn3): BatchNorm2d(2048, eps=1e-05, momentum=0.1, affine=True, track_running_stats=True)\n",
      "        (relu): ReLU(inplace=True)\n",
      "      )\n",
      "      (2): Bottleneck(\n",
      "        (conv1): Conv2d(2048, 512, kernel_size=(1, 1), stride=(1, 1), bias=False)\n",
      "        (bn1): BatchNorm2d(512, eps=1e-05, momentum=0.1, affine=True, track_running_stats=True)\n",
      "        (conv2): Conv2d(512, 512, kernel_size=(3, 3), stride=(1, 1), padding=(1, 1), bias=False)\n",
      "        (bn2): BatchNorm2d(512, eps=1e-05, momentum=0.1, affine=True, track_running_stats=True)\n",
      "        (conv3): Conv2d(512, 2048, kernel_size=(1, 1), stride=(1, 1), bias=False)\n",
      "        (bn3): BatchNorm2d(2048, eps=1e-05, momentum=0.1, affine=True, track_running_stats=True)\n",
      "        (relu): ReLU(inplace=True)\n",
      "      )\n",
      "    )\n",
      "  )\n",
      "  (gap): AdaptiveAvgPool2d(output_size=1)\n",
      "  (embedding): Linear(in_features=2048, out_features=512, bias=True)\n",
      "  (bn): BatchNorm1d(512, eps=1e-05, momentum=0.1, affine=True, track_running_stats=True)\n",
      "  (classifier): Linear(in_features=512, out_features=575, bias=False)\n",
      ")\n"
     ]
    }
   ],
   "source": [
    "print(model)"
   ]
  },
  {
   "cell_type": "code",
   "execution_count": 20,
   "id": "96b8a3fd",
   "metadata": {},
   "outputs": [],
   "source": [
    "# Training Loop\n",
    "\n",
    "def train_one_epoch(model, dataloader, optimizer, ce_loss, tri_loss):\n",
    "    model.train()\n",
    "    total_loss = 0\n",
    "\n",
    "    for imgs, pids, camids in dataloader:\n",
    "        imgs = imgs.cuda()\n",
    "        pids = pids.cuda()\n",
    "\n",
    "        cls_score, features = model(imgs)\n",
    "        loss = ce_loss(cls_score, pids) + tri_loss(features, pids)\n",
    "\n",
    "        optimizer.zero_grad()\n",
    "        loss.backward()\n",
    "        optimizer.step()\n",
    "\n",
    "        total_loss += loss.item()\n",
    "\n",
    "    return total_loss / len(dataloader)\n"
   ]
  },
  {
   "cell_type": "code",
   "execution_count": 21,
   "id": "24df3b8a",
   "metadata": {},
   "outputs": [
    {
     "name": "stdout",
     "output_type": "stream",
     "text": [
      "Number of classes: 575\n",
      "Min VID: 0, Max VID: 574\n"
     ]
    }
   ],
   "source": [
    "print(f\"Number of classes: {unique_vids}\")\n",
    "all_vids = [vid for _, vid, _ in train_dataset.samples]\n",
    "print(f\"Min VID: {min(all_vids)}, Max VID: {max(all_vids)}\")\n"
   ]
  },
  {
   "cell_type": "code",
   "execution_count": 22,
   "id": "f7eabe97",
   "metadata": {},
   "outputs": [
    {
     "name": "stdout",
     "output_type": "stream",
     "text": [
      "Train:  575 unique IDs\n",
      "Min ID: 0 Max ID: 574\n"
     ]
    }
   ],
   "source": [
    "train_vids = set([vid for _, vid, _ in train_dataset.samples])\n",
    "print(\"Train: \", len(train_vids), \"unique IDs\")\n",
    "print(\"Min ID:\", min(train_vids), \"Max ID:\", max(train_vids))\n"
   ]
  },
  {
   "cell_type": "code",
   "execution_count": 23,
   "id": "8e37d7a7",
   "metadata": {},
   "outputs": [
    {
     "name": "stdout",
     "output_type": "stream",
     "text": [
      "Test:  200 unique IDs\n",
      "Min ID: 0 Max ID: 199\n"
     ]
    }
   ],
   "source": [
    "test_vids = set([vid for _, vid, _ in test_dataset.samples])\n",
    "print(\"Test: \", len(test_vids), \"unique IDs\")\n",
    "print(\"Min ID:\", min(test_vids), \"Max ID:\", max(test_vids))\n"
   ]
  },
  {
   "cell_type": "code",
   "execution_count": 24,
   "id": "1dc12e0e",
   "metadata": {},
   "outputs": [
    {
     "name": "stdout",
     "output_type": "stream",
     "text": [
      "Epoch [1/60], Loss: 0.5587\n",
      "Epoch [2/60], Loss: 0.4869\n",
      "Epoch [3/60], Loss: 0.4381\n",
      "Epoch [4/60], Loss: 0.4108\n",
      "Epoch [5/60], Loss: 0.3784\n",
      "Epoch [6/60], Loss: 0.3494\n",
      "Epoch [7/60], Loss: 0.3276\n",
      "Epoch [8/60], Loss: 0.3125\n",
      "Epoch [9/60], Loss: 0.2993\n",
      "Epoch [10/60], Loss: 0.2829\n",
      "Epoch [11/60], Loss: 0.2648\n",
      "Epoch [12/60], Loss: 0.2485\n",
      "Epoch [13/60], Loss: 0.2376\n",
      "Epoch [14/60], Loss: 0.2055\n",
      "Epoch [15/60], Loss: 0.2030\n",
      "Epoch [16/60], Loss: 0.1899\n",
      "Epoch [17/60], Loss: 0.1796\n",
      "Epoch [18/60], Loss: 0.1562\n",
      "Epoch [19/60], Loss: 0.1552\n",
      "Epoch [20/60], Loss: 0.1434\n",
      "Epoch [21/60], Loss: 0.1147\n",
      "Epoch [22/60], Loss: 0.1064\n",
      "Epoch [23/60], Loss: 0.1068\n",
      "Epoch [24/60], Loss: 0.1033\n",
      "Epoch [25/60], Loss: 0.1007\n",
      "Epoch [26/60], Loss: 0.1004\n",
      "Epoch [27/60], Loss: 0.0937\n",
      "Epoch [28/60], Loss: 0.0923\n",
      "Epoch [29/60], Loss: 0.0861\n",
      "Epoch [30/60], Loss: 0.0855\n",
      "Epoch [31/60], Loss: 0.0864\n",
      "Epoch [32/60], Loss: 0.0863\n",
      "Epoch [33/60], Loss: 0.0847\n",
      "Epoch [34/60], Loss: 0.0829\n",
      "Epoch [35/60], Loss: 0.0823\n",
      "Epoch [36/60], Loss: 0.0824\n",
      "Epoch [37/60], Loss: 0.0767\n",
      "Epoch [38/60], Loss: 0.0759\n",
      "Epoch [39/60], Loss: 0.0736\n",
      "Epoch [40/60], Loss: 0.0719\n",
      "Epoch [41/60], Loss: 0.0719\n",
      "Epoch [42/60], Loss: 0.0698\n",
      "Epoch [43/60], Loss: 0.0725\n",
      "Epoch [44/60], Loss: 0.0689\n",
      "Epoch [45/60], Loss: 0.0685\n",
      "Epoch [46/60], Loss: 0.0730\n",
      "Epoch [47/60], Loss: 0.0695\n",
      "Epoch [48/60], Loss: 0.0654\n",
      "Epoch [49/60], Loss: 0.0680\n",
      "Epoch [50/60], Loss: 0.0678\n",
      "Epoch [51/60], Loss: 0.0686\n",
      "Epoch [52/60], Loss: 0.0695\n",
      "Epoch [53/60], Loss: 0.0710\n",
      "Epoch [54/60], Loss: 0.0683\n",
      "Epoch [55/60], Loss: 0.0677\n",
      "Epoch [56/60], Loss: 0.0670\n",
      "Epoch [57/60], Loss: 0.0678\n",
      "Epoch [58/60], Loss: 0.0644\n",
      "Epoch [59/60], Loss: 0.0680\n",
      "Epoch [60/60], Loss: 0.0657\n"
     ]
    }
   ],
   "source": [
    "num_epochs = 60\n",
    "\n",
    "for epoch in range(num_epochs):\n",
    "    loss = train_one_epoch(model, train_loader, optimizer, criterion_ce, criterion_tri)\n",
    "    scheduler.step()\n",
    "\n",
    "    print(f\"Epoch [{epoch+1}/{num_epochs}], Loss: {loss:.4f}\")\n"
   ]
  },
  {
   "cell_type": "code",
   "execution_count": 26,
   "id": "7f15c6f8",
   "metadata": {},
   "outputs": [],
   "source": [
    "torch.save(model.state_dict(), \"D:/envs/Vehicle_RE_ID/Outputs/checkpoints/ReID_model.pth\")\n"
   ]
  },
  {
   "cell_type": "code",
   "execution_count": 35,
   "id": "dbc8e0d0",
   "metadata": {},
   "outputs": [
    {
     "name": "stdout",
     "output_type": "stream",
     "text": [
      "<class 'list'>\n"
     ]
    }
   ],
   "source": [
    "import numpy as np\n",
    "\n",
    "pids_list = [np.array([1, 2]), np.array([3, 4, 5])]\n",
    "np.concatenate(pids_list)  # [1,2,3,4,5]\n",
    "print(type(pids_list))\n"
   ]
  },
  {
   "cell_type": "code",
   "execution_count": null,
   "id": "1ad2f618",
   "metadata": {},
   "outputs": [],
   "source": [
    "# ====== mAP-only evaluation ======\n",
    "import matplotlib.pyplot as plt\n",
    "\n",
    "device = torch.device(\"cuda\" if torch.cuda.is_available() else \"cpu\")\n",
    "\n",
    "# 1) Extract embeddings for a dataloader (returns numpy arrays)\n",
    "def extract_embeddings(model, loader, device, cache_path):\n",
    "    \"\"\"\n",
    "    Extracts embeddings for all samples from `loader`.\n",
    "    Returns:\n",
    "        feats: numpy array shape (N, D)\n",
    "        pids: numpy array shape (N,)\n",
    "        camids: numpy array shape (N,)\n",
    "    \"\"\"\n",
    "    if os.path.exists(cache_path):\n",
    "        print(f\"⚡ Loading cached features from {cache_path}\")\n",
    "        data = np.load(cache_path, allow_pickle=True)\n",
    "        return data[\"feats\"], data[\"pids\"], data[\"camids\"]\n",
    "\n",
    "    model.eval()\n",
    "    feats_list = []\n",
    "    pids_list = []\n",
    "    camids_list = []\n",
    "    with torch.no_grad():\n",
    "        for imgs, pids, camids in tqdm(loader, desc=\"Extract feats\", ncols=120):\n",
    "            imgs = imgs.to(device)\n",
    "            # assume model can return feature vector when asked\n",
    "            feat = model(imgs, return_feature=True)  # returns tensor [B, D]\n",
    "            feat = feat.detach().cpu().numpy()\n",
    "            feats_list.append(feat)\n",
    "            pids_list.append(np.asarray(pids))\n",
    "            camids_list.append(np.asarray(camids))\n",
    "    feats = np.vstack(feats_list)\n",
    "    pids = np.concatenate(pids_list)\n",
    "    camids = np.concatenate(camids_list)\n",
    "\n",
    "    np.savez(cache_path, feats=feats, pids=pids, camids=camids)\n",
    "    print(f\"✅ Features cached at {cache_path}\")\n",
    "\n",
    "    return feats, pids, camids\n",
    "\n",
    "# 2) Pairwise Euclidean distance (query vs gallery)\n",
    "def compute_euclidean_distance(q_feats, g_feats):\n",
    "    # Efficient squared Euclidean distance: (a-b)^2 = a^2 + b^2 - 2ab\n",
    "    # returns shape (Q, G)\n",
    "    q2 = np.sum(np.square(q_feats), axis=1, keepdims=True)  # (Q,1)\n",
    "    g2 = np.sum(np.square(g_feats), axis=1, keepdims=True).T  # (1,G)\n",
    "    dist = q2 + g2 - 2.0 * np.dot(q_feats, g_feats.T)\n",
    "    dist = np.maximum(dist, 0.0)\n",
    "    return dist\n",
    "\n",
    "# 3) Compute AP for one query (helper)\n",
    "def average_precision_at_ranks(sorted_matches):\n",
    "    \"\"\"\n",
    "    sorted_matches: binary 1D array (length G) where 1 indicates correct match at that rank.\n",
    "    AP = average of precision@k across ranks where sorted_matches[k]==1\n",
    "    \"\"\"\n",
    "    # cumulative sum of matches gives number of correct up to position k\n",
    "    cum_matches = np.cumsum(sorted_matches)\n",
    "    # positions where match occurs (0-based indices)\n",
    "    match_indices = np.where(sorted_matches == 1)[0]\n",
    "    if match_indices.size == 0:\n",
    "        return 0.0\n",
    "    precisions = [(cum_matches[k] / (k + 1)) for k in match_indices]\n",
    "    ap = np.mean(precisions)\n",
    "    return ap\n",
    "\n",
    "# 4) mAP computation following standard Re-ID protocol\n",
    "def compute_map(q_feats, g_feats, q_pids, g_pids, q_camids, g_camids,\n",
    "                metric=\"euclidean\", exclude_same_camera=True):\n",
    "    \"\"\"\n",
    "    Compute mean Average Precision (mAP)\n",
    "    metric: 'euclidean' or 'cosine'\n",
    "    exclude_same_camera: if True, skip same PID + same camera pairs\n",
    "    \"\"\"\n",
    "    if metric == \"euclidean\":\n",
    "        distmat = compute_euclidean_distance(q_feats, g_feats)\n",
    "    elif metric == \"cosine\":\n",
    "        sim = cosine_similarity(q_feats, g_feats)\n",
    "        distmat = 1 - sim  # smaller = closer\n",
    "    else:\n",
    "        raise ValueError(\"metric must be 'euclidean' or 'cosine'\")\n",
    "\n",
    "    num_q, num_g = distmat.shape\n",
    "    print(f\"Distance matrix shape: {distmat.shape}\")\n",
    "\n",
    "    aps, valid_q = [], 0\n",
    "\n",
    "    for q_idx in range(num_q):\n",
    "        q_pid = q_pids[q_idx]\n",
    "        q_camid = q_camids[q_idx]\n",
    "\n",
    "        # Sort gallery images by distance ascending\n",
    "        order = np.argsort(distmat[q_idx, :])\n",
    "        matches = (g_pids[order] == q_pid).astype(np.int32)\n",
    "\n",
    "        if exclude_same_camera:\n",
    "            same_cam = (g_pids[order] == q_pid) & (g_camids[order] == q_camid)\n",
    "            keep = np.invert(same_cam)\n",
    "            matches = matches[keep]\n",
    "\n",
    "        if not np.any(matches):\n",
    "            continue  # no valid match → skip\n",
    "\n",
    "        # Compute Average Precision (AP)\n",
    "        index = np.where(matches == 1)[0]\n",
    "        precisions = [(i + 1) / (rank + 1.0) for i, rank in enumerate(index)]\n",
    "        aps.append(np.mean(precisions))\n",
    "        valid_q += 1\n",
    "\n",
    "    if len(aps) == 0:\n",
    "        print(\"⚠️ No valid queries for mAP computation!\")\n",
    "        return 0.0, 0\n",
    "\n",
    "    mean_ap = np.mean(aps)\n",
    "    return mean_ap, valid_q\n",
    "\n",
    "def compute_cmc_map(q_feats, g_feats, q_pids, g_pids, q_camids, g_camids,\n",
    "                    metric=\"euclidean\", exclude_same_camera=True, ranks=(1, 5, 10, 20, 50, 100)):\n",
    "    \"\"\"\n",
    "    Compute both CMC (Rank@K) and mAP for Re-ID evaluation.\n",
    "    Returns:\n",
    "        cmc_curve: numpy array with cumulative match scores for given ranks\n",
    "        mAP: mean Average Precision\n",
    "    \"\"\"\n",
    "    # ---- Distance computation ----\n",
    "    if metric == \"euclidean\":\n",
    "        distmat = compute_euclidean_distance(q_feats, g_feats)\n",
    "    elif metric == \"cosine\":\n",
    "        sim = cosine_similarity(q_feats, g_feats)\n",
    "        distmat = 1 - sim\n",
    "    else:\n",
    "        raise ValueError(\"metric must be 'euclidean' or 'cosine'\")\n",
    "\n",
    "    num_q, num_g = distmat.shape\n",
    "    cmc = np.zeros(num_g)\n",
    "    aps = []\n",
    "    valid_q = 0\n",
    "\n",
    "    for q_idx in range(num_q):\n",
    "        q_pid = q_pids[q_idx]\n",
    "        q_camid = q_camids[q_idx]\n",
    "\n",
    "        order = np.argsort(distmat[q_idx, :])  # ascending order (closest first)\n",
    "        matches = (g_pids[order] == q_pid).astype(np.int32)\n",
    "\n",
    "        # remove same-camera same-pid images\n",
    "        if exclude_same_camera:\n",
    "            keep = ~((g_pids[order] == q_pid) & (g_camids[order] == q_camid))\n",
    "            matches = matches[keep]\n",
    "\n",
    "        if not np.any(matches):\n",
    "            continue\n",
    "\n",
    "        # ---- CMC computation ----\n",
    "        first_match_idx = np.where(matches == 1)[0][0]\n",
    "        cmc[first_match_idx:] += 1  # everything beyond first correct counts as correct at that rank\n",
    "\n",
    "        # ---- mAP computation ----\n",
    "        index = np.where(matches == 1)[0]\n",
    "        precisions = [(i + 1) / (rank + 1.0) for i, rank in enumerate(index)]\n",
    "        aps.append(np.mean(precisions))\n",
    "        valid_q += 1\n",
    "\n",
    "    if valid_q == 0:\n",
    "        raise RuntimeError(\"No valid queries found!\")\n",
    "\n",
    "    cmc = cmc / valid_q\n",
    "    mAP = np.mean(aps)\n",
    "\n",
    "    # ---- Report Rank@K ----\n",
    "    print(\"\\n=== Rank@K results ===\")\n",
    "    for k in ranks:\n",
    "        if k - 1 < len(cmc):\n",
    "            print(f\"Rank@{k:<3}: {cmc[k-1]*100:.2f}%\")\n",
    "    print(f\"mAP: {mAP:.4f} (valid queries: {valid_q}/{len(q_pids)})\")\n",
    "\n",
    "    return cmc, mAP\n",
    "\n",
    "def plot_cmc_curve(cmc, ranks=(1, 5, 10, 20, 50, 100)):\n",
    "    \"\"\"\n",
    "    Simple CMC curve plot.\n",
    "    \"\"\"\n",
    "    plt.figure(figsize=(6, 4))\n",
    "    plt.plot(np.arange(1, len(cmc)+1), cmc * 100, marker='o')\n",
    "    plt.title(\"CMC Curve\")\n",
    "    plt.xlabel(\"Rank\")\n",
    "    plt.ylabel(\"Matching Accuracy (%)\")\n",
    "    plt.grid(True)\n",
    "    plt.xlim(1, max(ranks))\n",
    "    plt.show()\n",
    "\n",
    "def evaluate_map(model, query_loader, gallery_loader, cache_dir):\n",
    "    os.makedirs(cache_dir, exist_ok=True)\n",
    "\n",
    "    query_emds_path = f'{cache_dir}query_feats.npz'\n",
    "    gallery_emds_path = f'{cache_dir}gallery_feats.npz'\n",
    "\n",
    "    q_feats, q_pids, q_camids = extract_embeddings(model, query_loader, device, query_emds_path)\n",
    "    g_feats, g_pids, g_camids = extract_embeddings(model, gallery_loader, device, gallery_emds_path)\n",
    "\n",
    "    # Normalize embeddings\n",
    "    q_feats = q_feats / (np.linalg.norm(q_feats, axis=1, keepdims=True) + 1e-12)\n",
    "    g_feats = g_feats / (np.linalg.norm(g_feats, axis=1, keepdims=True) + 1e-12)\n",
    "\n",
    "    # Euclidean\n",
    "    print(\"\\n--- Computing mAP (Euclidean, exclude same-camera=True) ---\")\n",
    "    map_euclidean, valid_euclidean = compute_map(\n",
    "        q_feats, g_feats, q_pids, g_pids, q_camids, g_camids,\n",
    "        metric=\"euclidean\", exclude_same_camera=True\n",
    "    )\n",
    "    print(f\"✅ mAP (Euclidean): {map_euclidean:.4f} (valid queries: {valid_euclidean}/{len(q_pids)})\")\n",
    "\n",
    "    # Cosine\n",
    "    print(\"\\n--- Computing mAP (Cosine, exclude same-camera=True) ---\")\n",
    "    map_cosine, valid_cosine = compute_map(\n",
    "        q_feats, g_feats, q_pids, g_pids, q_camids, g_camids,\n",
    "        metric=\"cosine\", exclude_same_camera=True\n",
    "    )\n",
    "    print(f\"✅ mAP (Cosine): {map_cosine:.4f} (valid queries: {valid_cosine}/{len(q_pids)})\")\n",
    "\n",
    "    #-------------------------------------------------------------------------------------------------------------------\n",
    "\n",
    "    cmc_curve, map_val = compute_cmc_map(\n",
    "    q_feats, g_feats,\n",
    "    q_pids, g_pids,\n",
    "    q_camids, g_camids,\n",
    "    metric=\"euclidean\",  # or \"cosine\"\n",
    "    exclude_same_camera=True)\n",
    "\n",
    "    return map_euclidean, map_cosine, cmc_curve"
   ]
  },
  {
   "cell_type": "code",
   "execution_count": 54,
   "id": "1120811b",
   "metadata": {},
   "outputs": [
    {
     "name": "stdout",
     "output_type": "stream",
     "text": [
      "D:/envs/Vehicle_RE_ID/Outputs/cached_embeddings/query_feats.npz\n"
     ]
    }
   ],
   "source": [
    "cache_dir=\"D:/envs/Vehicle_RE_ID/Outputs/cached_embeddings/\"\n",
    "a = os.path.join(cache_dir, \"query_feats.npz\")\n",
    "print(f'{cache_dir}query_feats.npz')"
   ]
  },
  {
   "cell_type": "code",
   "execution_count": 40,
   "id": "ca1bea8d",
   "metadata": {},
   "outputs": [
    {
     "name": "stdout",
     "output_type": "stream",
     "text": [
      "tensor([[-0.8907,  0.0618, -0.5712,  ...,  0.7153,  0.1205,  1.5095],\n",
      "        [-0.3645,  0.2994, -0.8402,  ...,  0.8733,  0.0723,  1.3386],\n",
      "        [ 0.0457,  1.0034, -0.9233,  ...,  0.4304, -0.3666,  0.9590],\n",
      "        ...,\n",
      "        [ 1.1225,  0.6968, -0.2114,  ...,  0.0707,  0.9335,  1.0055],\n",
      "        [ 0.8876, -1.7711, -0.2330,  ...,  0.4866,  0.8152,  1.5184],\n",
      "        [ 0.7090, -1.6507, -1.1927,  ...,  0.3278,  0.2586,  0.8275]],\n",
      "       device='cuda:0', grad_fn=<NativeBatchNormBackward0>)\n",
      "<class 'torch.Tensor'>\n",
      "torch.Size([32, 512])\n"
     ]
    }
   ],
   "source": [
    "for IMGS, _, _ in query_loader:\n",
    "    IMGS = IMGS.to(device)\n",
    "\n",
    "    FEAT = model(IMGS, return_feature=True)\n",
    "\n",
    "    print(FEAT)\n",
    "    print(type(FEAT))\n",
    "    print(FEAT.shape)\n",
    "    break"
   ]
  },
  {
   "cell_type": "code",
   "execution_count": 68,
   "id": "4e2b300c",
   "metadata": {},
   "outputs": [
    {
     "name": "stdout",
     "output_type": "stream",
     "text": [
      "⚡ Loading cached features from D:/envs/Vehicle_RE_ID/Outputs/cached_embeddings/query_feats.npz\n",
      "⚡ Loading cached features from D:/envs/Vehicle_RE_ID/Outputs/cached_embeddings/gallery_feats.npz\n",
      "\n",
      "--- Computing mAP (Euclidean, exclude same-camera=True) ---\n",
      "Distance matrix shape: (1678, 9901)\n",
      "✅ mAP (Euclidean): 0.6269 (valid queries: 1678/1678)\n",
      "\n",
      "--- Computing mAP (Cosine, exclude same-camera=True) ---\n",
      "Distance matrix shape: (1678, 9901)\n",
      "✅ mAP (Cosine): 0.6269 (valid queries: 1678/1678)\n",
      "\n",
      "=== Rank@K results ===\n",
      "Rank@1  : 87.84%\n",
      "Rank@5  : 95.05%\n",
      "Rank@10 : 97.44%\n",
      "Rank@20 : 98.33%\n",
      "Rank@50 : 99.05%\n",
      "Rank@100: 99.34%\n",
      "mAP: 0.6269 (valid queries: 1678/1678)\n",
      "\n",
      "==============================\n",
      "✅ Final mAP (Euclidean): 0.6269\n",
      "✅ Final mAP (Cosine):    0.6269\n",
      "==============================\n",
      "\n"
     ]
    }
   ],
   "source": [
    "map_euclidean, map_cosine, cmc = evaluate_map(\n",
    "    model=model,\n",
    "    query_loader=query_loader,\n",
    "    gallery_loader=gallery_loader,\n",
    "    cache_dir=\"D:/envs/Vehicle_RE_ID/Outputs/cached_embeddings/\"  # saves embeddings for reuse\n",
    ")\n",
    "\n",
    "# ---------------------------------------------\n",
    "# Step 4: Print final results\n",
    "# ---------------------------------------------\n",
    "print(\"\\n==============================\")\n",
    "print(f\"✅ Final mAP (Euclidean): {map_euclidean:.4f}\")\n",
    "print(f\"✅ Final mAP (Cosine):    {map_cosine:.4f}\")\n",
    "print(\"==============================\\n\")"
   ]
  },
  {
   "cell_type": "code",
   "execution_count": 69,
   "id": "1cbff5eb",
   "metadata": {},
   "outputs": [
    {
     "data": {
      "image/png": "[encoded data removed]",
      "text/plain": [
       "<Figure size 600x400 with 1 Axes>"
      ]
     },
     "metadata": {},
     "output_type": "display_data"
    }
   ],
   "source": [
    "plot_cmc_curve(cmc)"
   ]
  },
  {
   "cell_type": "code",
   "execution_count": null,
   "id": "c5790b95",
   "metadata": {},
   "outputs": [],
   "source": []
  }
 ],
 "metadata": {
  "kernelspec": {
   "display_name": "Re_ID",
   "language": "python",
   "name": "python3"
  },
  "language_info": {
   "codemirror_mode": {
    "name": "ipython",
    "version": 3
   },
   "file_extension": ".py",
   "mimetype": "text/x-python",
   "name": "python",
   "nbconvert_exporter": "python",
   "pygments_lexer": "ipython3",
   "version": "3.12.1"
  }
 },
 "nbformat": 4,
 "nbformat_minor": 5
}
